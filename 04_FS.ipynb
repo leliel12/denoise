{
 "cells": [
  {
   "cell_type": "code",
   "execution_count": 8,
   "metadata": {},
   "outputs": [],
   "source": [
    "import numpy as np\n",
    "\n",
    "import pandas as pd\n",
    "\n",
    "%matplotlib inline\n",
    "from matplotlib import cm\n",
    "import matplotlib.pyplot as plt\n",
    "import seaborn as sns\n",
    "\n",
    "import sklearn\n",
    "from sklearn.model_selection import train_test_split\n",
    "from sklearn import metrics\n",
    "from sklearn.model_selection import (\n",
    "    KFold, StratifiedKFold, train_test_split)\n",
    "from sklearn.feature_selection import RFECV\n",
    "\n",
    "from sklearn.svm import SVC\n",
    "\n",
    "import joblib\n",
    "\n",
    "from libs.container import Container\n",
    "import dataset"
   ]
  },
  {
   "cell_type": "code",
   "execution_count": 2,
   "metadata": {},
   "outputs": [],
   "source": [
    "cpu = joblib.cpu_count()"
   ]
  },
  {
   "cell_type": "code",
   "execution_count": 5,
   "metadata": {},
   "outputs": [
    {
     "name": "stdout",
     "output_type": "stream",
     "text": [
      "Reading '/mnt/is0/jbcabral/denoise/dataset/full_scaled.pkl.bz2'\n",
      "{'b278': 0, 'b261': 1}\n"
     ]
    }
   ],
   "source": [
    "data = dataset.load_scaled()\n",
    "\n",
    "df = pd.concat([data.b278, data.b261])\n",
    "\n",
    "cls = {name: idx for idx, name in enumerate(df.tile.unique())}\n",
    "df[\"cls\"] = df.tile.apply(cls.get)\n",
    "\n",
    "print(cls)\n",
    "\n",
    "del data"
   ]
  },
  {
   "cell_type": "code",
   "execution_count": 7,
   "metadata": {},
   "outputs": [
    {
     "data": {
      "text/plain": [
       "{'C': 100, 'kernel': 'linear', 'probability': True}"
      ]
     },
     "execution_count": 7,
     "metadata": {},
     "output_type": "execute_result"
    }
   ],
   "source": [
    "BEST_PARAMS = joblib.load(\"results/hp_selection.pkl.bz2\")\n",
    "SVC_LINEAR_PARAMS = BEST_PARAMS[\"svc_linear\"].best_params_\n",
    "\n",
    "del BEST_PARAMS\n",
    "\n",
    "SVC_LINEAR_PARAMS"
   ]
  },
  {
   "cell_type": "code",
   "execution_count": 12,
   "metadata": {},
   "outputs": [],
   "source": [
    "X = df[dataset.FEATURES].values\n",
    "y = df.cls.values"
   ]
  },
  {
   "cell_type": "code",
   "execution_count": null,
   "metadata": {},
   "outputs": [],
   "source": [
    "%%time\n",
    "clf = SVC(**SVC_LINEAR_PARAMS)\n",
    "sel = RFECV(clf, n_jobs=-1, cv=10)\n",
    "sel.fit(X, y)"
   ]
  },
  {
   "cell_type": "code",
   "execution_count": 18,
   "metadata": {},
   "outputs": [
    {
     "data": {
      "text/plain": [
       "['results/rfecv.pkl.bz2']"
      ]
     },
     "execution_count": 18,
     "metadata": {},
     "output_type": "execute_result"
    }
   ],
   "source": [
    "joblib.dump(sel, \"results/rfecv.pkl.bz2\", compress=3)"
   ]
  },
  {
   "cell_type": "code",
   "execution_count": null,
   "metadata": {},
   "outputs": [],
   "source": []
  }
 ],
 "metadata": {
  "kernelspec": {
   "display_name": "Python 3",
   "language": "python",
   "name": "python3"
  },
  "language_info": {
   "codemirror_mode": {
    "name": "ipython",
    "version": 3
   },
   "file_extension": ".py",
   "mimetype": "text/x-python",
   "name": "python",
   "nbconvert_exporter": "python",
   "pygments_lexer": "ipython3",
   "version": "3.8.1"
  }
 },
 "nbformat": 4,
 "nbformat_minor": 4
}
