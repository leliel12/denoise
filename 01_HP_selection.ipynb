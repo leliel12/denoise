{
 "cells": [
  {
   "cell_type": "code",
   "execution_count": 1,
   "metadata": {},
   "outputs": [],
   "source": [
    "import numpy as np\n",
    "\n",
    "import pandas as pd\n",
    "\n",
    "%matplotlib inline\n",
    "import matplotlib.pyplot as plt\n",
    "import seaborn as sns\n",
    "# sns.set()\n",
    "\n",
    "from sklearn.model_selection import train_test_split\n",
    "from sklearn.model_selection import GridSearchCV\n",
    "from sklearn.metrics import classification_report\n",
    "from sklearn.svm import SVC\n",
    "\n",
    "from sklearn.svm import SVC\n",
    "from sklearn.tree import DecisionTreeClassifier\n",
    "from sklearn.ensemble import RandomForestClassifier\n",
    "from sklearn.neighbors import KNeighborsClassifier\n",
    "\n",
    "from sklearn.preprocessing import StandardScaler\n",
    "\n",
    "import joblib\n",
    "\n",
    "from libs.container import Container\n",
    "import dataset"
   ]
  },
  {
   "cell_type": "code",
   "execution_count": 2,
   "metadata": {},
   "outputs": [],
   "source": [
    "cpu = joblib.cpu_count()"
   ]
  },
  {
   "cell_type": "code",
   "execution_count": 5,
   "metadata": {},
   "outputs": [
    {
     "name": "stdout",
     "output_type": "stream",
     "text": [
      "Reading '/home/juan/proyectos/denoise/src/dataset/full_scaled.pkl.bz2'\n"
     ]
    }
   ],
   "source": [
    "data = dataset.load_scaled()"
   ]
  },
  {
   "cell_type": "code",
   "execution_count": 6,
   "metadata": {},
   "outputs": [
    {
     "name": "stdout",
     "output_type": "stream",
     "text": [
      "{'b278': 0, 'b261': 1}\n"
     ]
    }
   ],
   "source": [
    "df = pd.concat([data.b278, data.b261])\n",
    "\n",
    "cls = {name: idx for idx, name in enumerate(df.tile.unique())}\n",
    "df[\"cls\"] = df.tile.apply(cls.get)\n",
    "\n",
    "print(cls)"
   ]
  },
  {
   "cell_type": "code",
   "execution_count": 12,
   "metadata": {},
   "outputs": [],
   "source": [
    "def grid_search(data, estimator, score, param_grid):\n",
    "    print(f\"Running {type(estimator)}\")\n",
    "    \n",
    "    clf = GridSearchCV(\n",
    "        estimator, \n",
    "        param_grid, \n",
    "        cv=5, n_jobs=-2,\n",
    "        scoring='%s_macro' % score)\n",
    "\n",
    "    X, y = data[dataset.FEATURES].values, data.cls.values\n",
    "\n",
    "    X_train, X_test, y_train, y_test = train_test_split(X, y, test_size=0.2, random_state=42)\n",
    "\n",
    "    clf.fit(X_train, y_train)\n",
    "\n",
    "    print(\"Best parameters set found on development set:\")\n",
    "    print()\n",
    "    print(clf.best_params_)\n",
    "\n",
    "    print()\n",
    "    print(\"Grid scores on development set:\")\n",
    "    print()\n",
    "    means = clf.cv_results_['mean_test_score']\n",
    "    stds = clf.cv_results_['std_test_score']\n",
    "    for mean, std, params in zip(means, stds, clf.cv_results_['params']):\n",
    "        print(\"%0.3f (+/-%0.03f) for %r\"\n",
    "              % (mean, std * 2, params))\n",
    "    print()\n",
    "\n",
    "    print(\"Detailed classification report:\")\n",
    "    print()\n",
    "    print(\"The model is trained on the full development set.\")\n",
    "    print(\"The scores are computed on the full evaluation set.\")\n",
    "    print()\n",
    "    y_true, y_pred = y_test, clf.predict(X_test)\n",
    "    print(classification_report(y_true, y_pred))\n",
    "    print()\n",
    "\n",
    "    return clf"
   ]
  },
  {
   "cell_type": "code",
   "execution_count": null,
   "metadata": {},
   "outputs": [],
   "source": [
    "%%time\n",
    "svc_rbf = grid_search(\n",
    "    data=df, \n",
    "    estimator=SVC(),\n",
    "    score=\"precision\",\n",
    "    param_grid=[{\n",
    "        'kernel': ['rbf'], \n",
    "        'C': [1, 10, 30, 50, 100], \n",
    "        \"gamma\": np.array([1.e-4, 3.e-4, 1.e+3, 3.e-3]), \n",
    "        \"probability\": [True]}])"
   ]
  },
  {
   "cell_type": "code",
   "execution_count": null,
   "metadata": {},
   "outputs": [],
   "source": [
    "%%time\n",
    "rf = grid_search(\n",
    "    data=df, \n",
    "    estimator=RandomForestClassifier(),\n",
    "    score=\"precision\",\n",
    "    param_grid=[{\n",
    "     'max_features': ['auto', 'sqrt', \"log2\", None, 0.2, 0.5], \n",
    "     \"min_samples_split\": [2, 5, 10],\n",
    "     \"n_estimators\": [500], \n",
    "     \"criterion\": [\"entropy\"], \n",
    "     \"n_jobs\": [10]}])"
   ]
  },
  {
   "cell_type": "code",
   "execution_count": 18,
   "metadata": {},
   "outputs": [
    {
     "data": {
      "text/plain": [
       "True"
      ]
     },
     "execution_count": 18,
     "metadata": {},
     "output_type": "execute_result"
    }
   ],
   "source": [
    "%%time\n",
    "knn = grid_search(\n",
    "    data=df, \n",
    "    estimator=KNeighborsClassifier(),\n",
    "    param_grid=[{\n",
    "        \"weights\": ['uniform', 'distance'], \n",
    "        \"algorithm\": ['auto'],\n",
    "        \"p\": [4, 5, 6],\n",
    "        \"n_neighbors\": k_range}])"
   ]
  },
  {
   "cell_type": "code",
   "execution_count": 19,
   "metadata": {},
   "outputs": [
    {
     "data": {
      "text/plain": [
       "True"
      ]
     },
     "execution_count": 19,
     "metadata": {},
     "output_type": "execute_result"
    }
   ],
   "source": [
    "%%time\n",
    "svc_linear = grid_search(\n",
    "    data=df, \n",
    "    estimator=SVC(),\n",
    "    score=\"precision\",\n",
    "    param_grid=[{\n",
    "        'kernel': ['linear'], \n",
    "        'C': [20, 30, 40,  50, 60, 100], \n",
    "        \"probability\": [True]}])"
   ]
  },
  {
   "cell_type": "code",
   "execution_count": 19,
   "metadata": {},
   "outputs": [],
   "source": [
    "joblib.dump(\n",
    "    value = {\n",
    "        \"svc_linear\": svc_linear, \"rf\": rf,\n",
    "        \"svc_rbf\": svc_rbf, \"knn\": knn},\n",
    "    filename = \"results/hp_selection.pkl.bz2\",\n",
    "    compress=3)"
   ]
  },
  {
   "cell_type": "code",
   "execution_count": 22,
   "metadata": {},
   "outputs": [
    {
     "data": {
      "text/plain": [
       "datetime.datetime(2020, 3, 18, 14, 13, 43, 689599)"
      ]
     },
     "execution_count": 22,
     "metadata": {},
     "output_type": "execute_result"
    }
   ],
   "source": [
    "import datetime\n",
    "datetime.datetime.now()"
   ]
  },
  {
   "cell_type": "code",
   "execution_count": null,
   "metadata": {},
   "outputs": [],
   "source": []
  }
 ],
 "metadata": {
  "kernelspec": {
   "display_name": "Python 3",
   "language": "python",
   "name": "python3"
  },
  "language_info": {
   "codemirror_mode": {
    "name": "ipython",
    "version": 3
   },
   "file_extension": ".py",
   "mimetype": "text/x-python",
   "name": "python",
   "nbconvert_exporter": "python",
   "pygments_lexer": "ipython3",
   "version": "3.8.0"
  }
 },
 "nbformat": 4,
 "nbformat_minor": 4
}
