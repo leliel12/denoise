{
 "cells": [
  {
   "cell_type": "code",
   "execution_count": 1,
   "metadata": {},
   "outputs": [],
   "source": [
    "import numpy as np\n",
    "\n",
    "import pandas as pd\n",
    "\n",
    "%matplotlib inline\n",
    "from matplotlib import cm\n",
    "import matplotlib.pyplot as plt\n",
    "import seaborn as sns\n",
    "# sns.set()\n",
    "\n",
    "from sklearn.model_selection import train_test_split\n",
    "from sklearn.model_selection import GridSearchCV\n",
    "from sklearn.metrics import classification_report\n",
    "from sklearn.svm import SVC\n",
    "from sklearn.model_selection import (\n",
    "    KFold, StratifiedKFold, train_test_split)\n",
    "\n",
    "import sklearn\n",
    "from sklearn.svm import SVC\n",
    "from sklearn.tree import DecisionTreeClassifier\n",
    "from sklearn.ensemble import RandomForestClassifier\n",
    "from sklearn.neighbors import KNeighborsClassifier\n",
    "from sklearn import metrics\n",
    "\n",
    "from sklearn.preprocessing import StandardScaler\n",
    "\n",
    "import joblib\n",
    "\n",
    "from libs.container import Container\n",
    "import dataset"
   ]
  },
  {
   "cell_type": "code",
   "execution_count": 2,
   "metadata": {},
   "outputs": [],
   "source": [
    "cpu = joblib.cpu_count()"
   ]
  },
  {
   "cell_type": "code",
   "execution_count": 3,
   "metadata": {},
   "outputs": [
    {
     "name": "stdout",
     "output_type": "stream",
     "text": [
      "{'b278': 0, 'b261': 1}\n"
     ]
    }
   ],
   "source": [
    "_, sdata, _ = dataset.load_tile_clf()\n",
    "\n",
    "df = pd.concat([sdata.b278, sdata.b261])\n",
    "\n",
    "cls = {name: idx for idx, name in enumerate(df.tile.unique())}\n",
    "df[\"cls\"] = df.tile.apply(cls.get)\n",
    "\n",
    "print(cls)\n",
    "\n",
    "del sdata"
   ]
  },
  {
   "cell_type": "code",
   "execution_count": 4,
   "metadata": {},
   "outputs": [],
   "source": [
    "cls = {v: v for v in cls.values()}"
   ]
  },
  {
   "cell_type": "code",
   "execution_count": 5,
   "metadata": {},
   "outputs": [],
   "source": [
    "BEST_PARAMS = joblib.load(\"results/hp_selection.pkl.bz2\")"
   ]
  },
  {
   "cell_type": "code",
   "execution_count": 6,
   "metadata": {},
   "outputs": [],
   "source": [
    "SVC_LINEAR_PARAMS = BEST_PARAMS[\"svc_linear\"].best_params_\n",
    "SVC_RBF_PARAMS = BEST_PARAMS[\"svc_rbf\"].best_params_\n",
    "KNN_PARAMS = BEST_PARAMS[\"knn\"].best_params_\n",
    "RF_PARAMS = BEST_PARAMS[\"rf\"].best_params_\n",
    "\n",
    "del BEST_PARAMS"
   ]
  },
  {
   "cell_type": "code",
   "execution_count": 7,
   "metadata": {},
   "outputs": [],
   "source": [
    "def execute_kfold(clf_name, clasificator, sample,  X_columns, y_column, nfolds):\n",
    "    \n",
    "    skf = StratifiedKFold(n_splits=nfolds)\n",
    "    \n",
    "    X = sample[X_columns].values\n",
    "    y = sample[y_column].values\n",
    "    \n",
    "    probabilities = None\n",
    "    predictions = np.array([])\n",
    "    y_tests = np.array([])\n",
    "    \n",
    "    for train, test in skf.split(X, y):\n",
    "        x_train = X[train]\n",
    "        y_train = y[train]\n",
    "        x_test = X[test]\n",
    "        y_test = y[test]\n",
    "        \n",
    "        clf = sklearn.clone(clasificator)\n",
    "        clf.fit(x_train, y_train)\n",
    "        \n",
    "        current_pred = clf.predict(x_test)\n",
    "        current_prob = clf.predict_proba(x_test)\n",
    "        \n",
    "        y_tests = np.hstack([y_tests, y_test])\n",
    "        predictions = np.hstack([predictions, current_pred])\n",
    "        probabilities = (\n",
    "                current_prob if probabilities is None else\n",
    "                np.vstack([probabilities, current_prob ]))\n",
    "            \n",
    "    fpr, tpr, thresholds = metrics.roc_curve(\n",
    "        y_tests, 1.-probabilities[:,0], pos_label=1)\n",
    "    prec_rec_curve = metrics.precision_recall_curve(\n",
    "        y_tests, 1.- probabilities[:,0], pos_label=1)\n",
    "    \n",
    "    roc_auc = metrics.auc(fpr, tpr)\n",
    "    \n",
    "    print(metrics.classification_report(y_tests, predictions))\n",
    "    print(\"-\" * 80)\n",
    "    \n",
    "    result = Container({\n",
    "        \"clf_name\": clf_name,\n",
    "        \"nfolds\": nfolds,\n",
    "        'fpr': fpr,\n",
    "        'tpr': tpr,\n",
    "        'thresh': thresholds,\n",
    "        'roc_auc': roc_auc,\n",
    "        'prec_rec_curve': prec_rec_curve,\n",
    "        'real_cls': y_tests,\n",
    "        'predictions': predictions,\n",
    "        'probabilities': probabilities,\n",
    "        'confusion_matrix': metrics.confusion_matrix(y_tests, predictions)})    \n",
    "    return result"
   ]
  },
  {
   "cell_type": "code",
   "execution_count": 8,
   "metadata": {},
   "outputs": [
    {
     "name": "stdout",
     "output_type": "stream",
     "text": [
      "              precision    recall  f1-score   support\n",
      "\n",
      "         0.0       0.77      0.80      0.78      2436\n",
      "         1.0       0.77      0.74      0.76      2252\n",
      "\n",
      "    accuracy                           0.77      4688\n",
      "   macro avg       0.77      0.77      0.77      4688\n",
      "weighted avg       0.77      0.77      0.77      4688\n",
      "\n",
      "--------------------------------------------------------------------------------\n",
      "CPU times: user 36min 46s, sys: 3.57 s, total: 36min 49s\n",
      "Wall time: 3min 51s\n"
     ]
    }
   ],
   "source": [
    "%%time\n",
    "rf = execute_kfold(\n",
    "    clf_name=\"RF\", \n",
    "    clasificator=RandomForestClassifier(**RF_PARAMS), \n",
    "    sample=df, X_columns=dataset.FEATURES, y_column=\"cls\", nfolds=10)"
   ]
  },
  {
   "cell_type": "code",
   "execution_count": 9,
   "metadata": {},
   "outputs": [
    {
     "name": "stdout",
     "output_type": "stream",
     "text": [
      "              precision    recall  f1-score   support\n",
      "\n",
      "         0.0       0.81      0.80      0.81      2436\n",
      "         1.0       0.79      0.80      0.79      2252\n",
      "\n",
      "    accuracy                           0.80      4688\n",
      "   macro avg       0.80      0.80      0.80      4688\n",
      "weighted avg       0.80      0.80      0.80      4688\n",
      "\n",
      "--------------------------------------------------------------------------------\n",
      "CPU times: user 4min 27s, sys: 135 ms, total: 4min 27s\n",
      "Wall time: 4min 27s\n"
     ]
    }
   ],
   "source": [
    "%%time\n",
    "svm_rbf = execute_kfold(\n",
    "    clf_name=\"SVM-RBF\", \n",
    "    clasificator=SVC(**SVC_RBF_PARAMS), \n",
    "    sample=df, X_columns=dataset.FEATURES, y_column=\"cls\", nfolds=10)"
   ]
  },
  {
   "cell_type": "code",
   "execution_count": 10,
   "metadata": {},
   "outputs": [
    {
     "name": "stdout",
     "output_type": "stream",
     "text": [
      "              precision    recall  f1-score   support\n",
      "\n",
      "         0.0       0.87      0.84      0.85      2436\n",
      "         1.0       0.83      0.86      0.85      2252\n",
      "\n",
      "    accuracy                           0.85      4688\n",
      "   macro avg       0.85      0.85      0.85      4688\n",
      "weighted avg       0.85      0.85      0.85      4688\n",
      "\n",
      "--------------------------------------------------------------------------------\n"
     ]
    }
   ],
   "source": [
    "svm_linear = execute_kfold(\n",
    "    clf_name=\"SVM-Linear\", \n",
    "    clasificator=SVC(**SVC_LINEAR_PARAMS), \n",
    "    sample=df, X_columns=dataset.FEATURES, y_column=\"cls\", nfolds=10)"
   ]
  },
  {
   "cell_type": "code",
   "execution_count": 11,
   "metadata": {},
   "outputs": [
    {
     "name": "stdout",
     "output_type": "stream",
     "text": [
      "              precision    recall  f1-score   support\n",
      "\n",
      "         0.0       0.72      0.68      0.70      2436\n",
      "         1.0       0.67      0.72      0.70      2252\n",
      "\n",
      "    accuracy                           0.70      4688\n",
      "   macro avg       0.70      0.70      0.70      4688\n",
      "weighted avg       0.70      0.70      0.70      4688\n",
      "\n",
      "--------------------------------------------------------------------------------\n"
     ]
    }
   ],
   "source": [
    "knn = execute_kfold(\n",
    "    clf_name=\"KNN\", \n",
    "    clasificator=KNeighborsClassifier(**KNN_PARAMS), \n",
    "    sample=df, X_columns=dataset.FEATURES, y_column=\"cls\", nfolds=10)"
   ]
  },
  {
   "cell_type": "code",
   "execution_count": 12,
   "metadata": {},
   "outputs": [
    {
     "data": {
      "text/plain": [
       "['results/model_selection.pkl.bz2']"
      ]
     },
     "execution_count": 12,
     "metadata": {},
     "output_type": "execute_result"
    }
   ],
   "source": [
    "results = [svm_linear, svm_rbf, rf, knn]\n",
    "joblib.dump(\n",
    "    value = [r for r in map(dict, results)],\n",
    "    filename = \"results/model_selection.pkl.bz2\",\n",
    "    compress=3)"
   ]
  },
  {
   "cell_type": "code",
   "execution_count": 13,
   "metadata": {},
   "outputs": [
    {
     "data": {
      "image/png": "[encoded data removed]",
      "text/plain": [
       "<Figure size 720x360 with 2 Axes>"
      ]
     },
     "metadata": {
      "needs_background": "light"
     },
     "output_type": "display_data"
    }
   ],
   "source": [
    "def roc(results, ax=None, labels=True):\n",
    "    if ax == None:\n",
    "        ax = plt.gca()\n",
    "\n",
    "    for res in results:\n",
    "        cname = \"{}\".format(res.clf_name)\n",
    "        label = res.clf_name if labels else \"_no_legend_\"\n",
    "        ax.plot(res[\"fpr\"], res[\"tpr\"],  label=label)\n",
    "\n",
    "    ax.plot([0, 1], [0, 1], color='navy', lw=1, linestyle='--')\n",
    "    ax.set_xlim([0.0, 1.0])\n",
    "    ax.set_ylim([0.0, 1.05])\n",
    "    ax.set_xlabel('FP Rate')\n",
    "    ax.set_ylabel('TP Rate')\n",
    "    ax.set_title('ROC Curve')\n",
    "    \n",
    "    return ax\n",
    "\n",
    "\n",
    "def prc(results, ax=None, labels=True):\n",
    "    if ax == None:\n",
    "        ax = plt.gca()\n",
    "        \n",
    "    for r in results:\n",
    "        label = r.clf_name if labels else \"_no_legend_\"\n",
    "        ax.plot(r.prec_rec_curve[1], r.prec_rec_curve[0], label=label)\n",
    "        \n",
    "    ax.set_title(\"Precision-Recall Curve\")\n",
    "    ax.set_xlabel(\"Recall\")\n",
    "    ax.set_ylabel(\"Precision\")\n",
    "\n",
    "fig, ax = plt.subplots(1, 2, figsize=(10, 5))\n",
    "roc(results, ax=ax[0])\n",
    "prc(results, ax=ax[1], labels=False)\n",
    "\n",
    "lgd = fig.legend(bbox_to_anchor=(1.12, 0.93))\n",
    "fig.tight_layout();\n",
    "\n",
    "fig.savefig(\"plots/cmp_models_curve.pdf\", bbox_extra_artists=(lgd,), bbox_inches='tight')"
   ]
  },
  {
   "cell_type": "code",
   "execution_count": 14,
   "metadata": {},
   "outputs": [
    {
     "data": {
      "text/plain": [
       "datetime.datetime(2020, 8, 18, 19, 49, 3, 708382)"
      ]
     },
     "execution_count": 14,
     "metadata": {},
     "output_type": "execute_result"
    }
   ],
   "source": [
    "import datetime\n",
    "datetime.datetime.now()"
   ]
  }
 ],
 "metadata": {
  "kernelspec": {
   "display_name": "Python 3",
   "language": "python",
   "name": "python3"
  },
  "language_info": {
   "codemirror_mode": {
    "name": "ipython",
    "version": 3
   },
   "file_extension": ".py",
   "mimetype": "text/x-python",
   "name": "python",
   "nbconvert_exporter": "python",
   "pygments_lexer": "ipython3",
   "version": "3.8.1"
  }
 },
 "nbformat": 4,
 "nbformat_minor": 4
}
