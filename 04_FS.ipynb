{
 "cells": [
  {
   "cell_type": "code",
   "execution_count": 1,
   "metadata": {},
   "outputs": [],
   "source": [
    "import itertools as it\n",
    "import datetime as dt\n",
    "\n",
    "import numpy as np\n",
    "\n",
    "import pandas as pd\n",
    "\n",
    "%matplotlib inline\n",
    "from matplotlib import cm\n",
    "import matplotlib.pyplot as plt\n",
    "import seaborn as sns\n",
    "\n",
    "import sklearn\n",
    "from sklearn.model_selection import train_test_split\n",
    "from sklearn import metrics\n",
    "from sklearn.model_selection import (\n",
    "    KFold, StratifiedKFold, train_test_split)\n",
    "from sklearn.feature_selection import RFECV\n",
    "\n",
    "from sklearn.svm import SVC\n",
    "\n",
    "import joblib\n",
    "\n",
    "from libs.container import Container\n",
    "import dataset"
   ]
  },
  {
   "cell_type": "code",
   "execution_count": 2,
   "metadata": {},
   "outputs": [],
   "source": [
    "cpu = joblib.cpu_count()"
   ]
  },
  {
   "cell_type": "code",
   "execution_count": 3,
   "metadata": {},
   "outputs": [
    {
     "data": {
      "text/plain": [
       "[('b261', 'b277'),\n",
       " ('b261', 'b278'),\n",
       " ('b261', 'b360'),\n",
       " ('b277', 'b278'),\n",
       " ('b277', 'b360'),\n",
       " ('b278', 'b360')]"
      ]
     },
     "execution_count": 3,
     "metadata": {},
     "output_type": "execute_result"
    }
   ],
   "source": [
    "names = [\"b261\", \"b277\", \"b278\", \"b360\"]\n",
    "combs = list(it.combinations(names, 2))\n",
    "combs"
   ]
  },
  {
   "cell_type": "code",
   "execution_count": 4,
   "metadata": {},
   "outputs": [],
   "source": [
    "_, sdata, _ = dataset.load_tile_clf()\n",
    "\n",
    "\n",
    "\n",
    "# del sdata"
   ]
  },
  {
   "cell_type": "code",
   "execution_count": 5,
   "metadata": {},
   "outputs": [
    {
     "data": {
      "text/plain": [
       "{'C': 100, 'kernel': 'linear', 'probability': True}"
      ]
     },
     "execution_count": 5,
     "metadata": {},
     "output_type": "execute_result"
    }
   ],
   "source": [
    "BEST_PARAMS = joblib.load(\"results/hp_selection.pkl.bz2\")\n",
    "SVC_LINEAR_PARAMS = BEST_PARAMS[\"svc_linear\"].best_params_\n",
    "\n",
    "del BEST_PARAMS\n",
    "\n",
    "SVC_LINEAR_PARAMS"
   ]
  },
  {
   "cell_type": "code",
   "execution_count": null,
   "metadata": {},
   "outputs": [
    {
     "name": "stdout",
     "output_type": "stream",
     "text": [
      "2020-08-06 00:44:03.181420\n",
      "{'b261': 0, 'b277': 1}\n",
      "fit\n"
     ]
    }
   ],
   "source": [
    "res = {}\n",
    "for t0, t1 in combs:\n",
    "    print(dt.datetime.now())\n",
    "        \n",
    "    df = pd.concat([sdata[t0], sdata[t1]])\n",
    "\n",
    "    cls = {name: idx for idx, name in enumerate(df.tile.unique())}\n",
    "    print(cls)\n",
    "    df[\"cls\"] = df.tile.apply(cls.get)\n",
    "\n",
    "    X = df[dataset.FEATURES].values\n",
    "    y = df.cls.values\n",
    "    \n",
    "    clf = SVC(**SVC_LINEAR_PARAMS)\n",
    "    sel = RFECV(clf, n_jobs=-1, cv=5)\n",
    "    \n",
    "    print(\"fit\")\n",
    "    sel.fit(X, y)\n",
    "    \n",
    "    print(\"storing\")\n",
    "    res[(t0, t1)] = sel\n",
    "    \n",
    "    print(\"-----------------------------\")\n",
    "    "
   ]
  },
  {
   "cell_type": "code",
   "execution_count": null,
   "metadata": {},
   "outputs": [],
   "source": [
    "joblib.dump(res, \"results/rfecv.pkl.bz2\", compress=3)"
   ]
  },
  {
   "cell_type": "code",
   "execution_count": null,
   "metadata": {},
   "outputs": [],
   "source": []
  }
 ],
 "metadata": {
  "kernelspec": {
   "display_name": "Python 3",
   "language": "python",
   "name": "python3"
  },
  "language_info": {
   "codemirror_mode": {
    "name": "ipython",
    "version": 3
   },
   "file_extension": ".py",
   "mimetype": "text/x-python",
   "name": "python",
   "nbconvert_exporter": "python",
   "pygments_lexer": "ipython3",
   "version": "3.8.1"
  }
 },
 "nbformat": 4,
 "nbformat_minor": 4
}
